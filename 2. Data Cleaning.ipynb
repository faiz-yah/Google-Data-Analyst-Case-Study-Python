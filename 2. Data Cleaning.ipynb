{
 "cells": [
  {
   "cell_type": "markdown",
   "metadata": {},
   "source": [
    "##  **Remark**: \n",
    "\n",
    "This document is just an extracted copy for the \"Process\" phase of the case study, the full analysis can be found on this [link](https://github.com/faiz-yah/Google-Data-Analyst-Case-Study-Python/blob/main/1.%20Complete%20Analysis.ipynb).\n",
    "\n",
    "## Process Phase (Cleaning Data)\n",
    "The \"Process\" phase is where the data collected are being processed, this includes connecting the data sources, **cleaning the data**, filtering and choosing the data, calculating the confidence level of the data etc.\n",
    "\n",
    "Deliverable: **documentation of any cleaning or manipulation of data**.\n",
    "\n",
    "### Documentation of data cleaning and manipulation\n",
    "I will be using **Pandas** for the data cleaning and manipulations. \n",
    "The actions that I carried out are as follows:\n",
    "\n",
    "1. Since the data for each month are in a seperate file, I import each file individually.\n",
    "2. Then I merge these files into one data frame which enable me to analyze them in term of the year 2021.\n",
    "3. Identify the columns and type of each column of the data frame.\n",
    "4. Check for null values.\n",
    "    - Drop the null values (if any), and reconfirm that there are no longer null values\n",
    "5. Delete the columns that are not necessary.\n",
    "6. Check for duplicates.\n",
    "    - Drop the duplicated values (if any), and reconfirm that there are no longer duplicated values\n",
    "7. Modify the data type of certain column.\n",
    "    - Convert _**started_at**_ column and _**ended_at**_ column from  \"object\" to \"datetime64\"\n",
    "    - To **extract the hour, day, month and date** to form new columns based on them\n",
    "    - To calculate the **ride duration**\n",
    "8. Check the order of the day, month.\n",
    "9. Create a new column _**ride_duration**_ that calculates the duration of each ride.\n",
    "    - Express the ride duration in terms of only **minutes** , and not **minutes and seconds**\n",
    "    - Check whether there are **negative values** for the ride duration which would be illogical\n",
    "    - Remove the rows that have negative values\n",
    "10. Export the file of the cleaned data."
   ]
  },
  {
   "cell_type": "markdown",
   "metadata": {},
   "source": [
    "### 1. Read each csv file individually"
   ]
  },
  {
   "cell_type": "code",
   "execution_count": 1,
   "metadata": {},
   "outputs": [],
   "source": [
    "import pandas as pd\n",
    "\n",
    "# Since the data for each month are in a seperate file, I import each file individually\n",
    "\n",
    "jan_2021 = pd.read_csv('2021_01.csv')\n",
    "feb_2021 = pd.read_csv('2021_02.csv')\n",
    "march_2021 = pd.read_csv('2021_03.csv')\n",
    "april_2021 = pd.read_csv('2021_04.csv')\n",
    "may_2021 = pd.read_csv('2021_05.csv')\n",
    "june_2021 = pd.read_csv('2021_06.csv')\n",
    "july_2021 = pd.read_csv('2021_07.csv')\n",
    "august_2021 = pd.read_csv('2021_08.csv')\n",
    "sept_2021 = pd.read_csv('2021_09.csv')\n",
    "oct_2021 = pd.read_csv('2021_10.csv')\n",
    "nov_2021 = pd.read_csv('2021_11.csv')\n",
    "dec_2021 = pd.read_csv('2021_12.csv')"
   ]
  },
  {
   "cell_type": "markdown",
   "metadata": {},
   "source": [
    "### 2. Merge each month into one single year of 2021"
   ]
  },
  {
   "cell_type": "code",
   "execution_count": 2,
   "metadata": {},
   "outputs": [],
   "source": [
    "# Merge these files into one data frame which enable me to analyze them in term of the year 2021\n",
    "\n",
    "df = pd.concat([jan_2021, feb_2021, march_2021, april_2021, \n",
    "                may_2021, june_2021, july_2021, august_2021, \n",
    "                sept_2021, oct_2021,nov_2021, dec_2021])"
   ]
  },
  {
   "cell_type": "markdown",
   "metadata": {},
   "source": [
    "### 3. Identify the information of the data frame"
   ]
  },
  {
   "cell_type": "code",
   "execution_count": 3,
   "metadata": {},
   "outputs": [
    {
     "name": "stdout",
     "output_type": "stream",
     "text": [
      "<class 'pandas.core.frame.DataFrame'>\n",
      "Int64Index: 5595063 entries, 0 to 247539\n",
      "Data columns (total 13 columns):\n",
      " #   Column              Dtype  \n",
      "---  ------              -----  \n",
      " 0   ride_id             object \n",
      " 1   rideable_type       object \n",
      " 2   started_at          object \n",
      " 3   ended_at            object \n",
      " 4   start_station_name  object \n",
      " 5   start_station_id    object \n",
      " 6   end_station_name    object \n",
      " 7   end_station_id      object \n",
      " 8   start_lat           float64\n",
      " 9   start_lng           float64\n",
      " 10  end_lat             float64\n",
      " 11  end_lng             float64\n",
      " 12  member_casual       object \n",
      "dtypes: float64(4), object(9)\n",
      "memory usage: 597.6+ MB\n"
     ]
    }
   ],
   "source": [
    "# Identify the columns and their respective data type\n",
    "\n",
    "df.info()"
   ]
  },
  {
   "cell_type": "markdown",
   "metadata": {},
   "source": [
    "We can identify that there are a total of 12 columns, 4 of which has the data type **'float64'**, while 9 has the data type **'object'**."
   ]
  },
  {
   "cell_type": "markdown",
   "metadata": {},
   "source": [
    "### 4. Check for null values"
   ]
  },
  {
   "cell_type": "code",
   "execution_count": 4,
   "metadata": {},
   "outputs": [
    {
     "data": {
      "text/plain": [
       "ride_id                    0\n",
       "rideable_type              0\n",
       "started_at                 0\n",
       "ended_at                   0\n",
       "start_station_name    690809\n",
       "start_station_id      690806\n",
       "end_station_name      739170\n",
       "end_station_id        739170\n",
       "start_lat                  0\n",
       "start_lng                  0\n",
       "end_lat                 4771\n",
       "end_lng                 4771\n",
       "member_casual              0\n",
       "dtype: int64"
      ]
     },
     "execution_count": 4,
     "metadata": {},
     "output_type": "execute_result"
    }
   ],
   "source": [
    "# Check the amount of null values for each column\n",
    "\n",
    "df.isnull().sum()"
   ]
  },
  {
   "cell_type": "markdown",
   "metadata": {},
   "source": [
    "From the result, we can identify that there are around 70k null values for some of the columns."
   ]
  },
  {
   "cell_type": "code",
   "execution_count": 5,
   "metadata": {},
   "outputs": [
    {
     "data": {
      "text/plain": [
       "ride_id               0\n",
       "rideable_type         0\n",
       "started_at            0\n",
       "ended_at              0\n",
       "start_station_name    0\n",
       "start_station_id      0\n",
       "end_station_name      0\n",
       "end_station_id        0\n",
       "start_lat             0\n",
       "start_lng             0\n",
       "end_lat               0\n",
       "end_lng               0\n",
       "member_casual         0\n",
       "dtype: int64"
      ]
     },
     "execution_count": 5,
     "metadata": {},
     "output_type": "execute_result"
    }
   ],
   "source": [
    "# Delete the null values, then reconfirm that the amount of null values are now 0\n",
    "\n",
    "df.dropna(inplace = True)\n",
    "df.isnull().sum() "
   ]
  },
  {
   "cell_type": "markdown",
   "metadata": {},
   "source": [
    "After dropping the null values, the result now shows that there are no longer any null values."
   ]
  },
  {
   "cell_type": "markdown",
   "metadata": {},
   "source": [
    "### 5. Delete columns that are unnecessary"
   ]
  },
  {
   "cell_type": "code",
   "execution_count": 6,
   "metadata": {},
   "outputs": [
    {
     "name": "stdout",
     "output_type": "stream",
     "text": [
      "<class 'pandas.core.frame.DataFrame'>\n",
      "Int64Index: 4588302 entries, 9 to 247539\n",
      "Data columns (total 5 columns):\n",
      " #   Column         Dtype \n",
      "---  ------         ----- \n",
      " 0   ride_id        object\n",
      " 1   rideable_type  object\n",
      " 2   started_at     object\n",
      " 3   ended_at       object\n",
      " 4   member_casual  object\n",
      "dtypes: object(5)\n",
      "memory usage: 210.0+ MB\n"
     ]
    }
   ],
   "source": [
    "df = df.drop(['start_station_name', 'start_station_id', 'end_station_name', 'end_station_id',\n",
    "             'start_lat', 'start_lng', 'end_lat', 'end_lng'], axis=1)\n",
    "\n",
    "df.info()"
   ]
  },
  {
   "cell_type": "markdown",
   "metadata": {},
   "source": [
    "Since there are certain columns that will not be analyze, it is better to drop them completely for the purpose of clarity and neatness, sometimes less is more."
   ]
  },
  {
   "cell_type": "markdown",
   "metadata": {},
   "source": [
    "### 6. Check for duplicated values"
   ]
  },
  {
   "cell_type": "code",
   "execution_count": 7,
   "metadata": {},
   "outputs": [
    {
     "data": {
      "text/plain": [
       "0"
      ]
     },
     "execution_count": 7,
     "metadata": {},
     "output_type": "execute_result"
    }
   ],
   "source": [
    "df.duplicated().sum()"
   ]
  },
  {
   "cell_type": "markdown",
   "metadata": {},
   "source": [
    "We are all good to go since there are no duplicated values, if there are, we should drop them too."
   ]
  },
  {
   "cell_type": "markdown",
   "metadata": {},
   "source": [
    "### 7. Convert column data type "
   ]
  },
  {
   "cell_type": "markdown",
   "metadata": {},
   "source": [
    "We will be converting the column type for two columns, __**started_at**__ column and __**ended_at**__ column from the data type **\"object\"** to the data type **\"datetime64\"**\n",
    "\n",
    "There are 2 reasons for this:\n",
    "- To **extract the hour, day, month and date** to form new columns based on them\n",
    "- To calculate the **ride duration**"
   ]
  },
  {
   "cell_type": "code",
   "execution_count": 8,
   "metadata": {},
   "outputs": [
    {
     "name": "stdout",
     "output_type": "stream",
     "text": [
      "<class 'pandas.core.frame.DataFrame'>\n",
      "Int64Index: 4588302 entries, 9 to 247539\n",
      "Data columns (total 5 columns):\n",
      " #   Column         Dtype \n",
      "---  ------         ----- \n",
      " 0   ride_id        object\n",
      " 1   rideable_type  object\n",
      " 2   started_at     object\n",
      " 3   ended_at       object\n",
      " 4   member_casual  object\n",
      "dtypes: object(5)\n",
      "memory usage: 210.0+ MB\n"
     ]
    }
   ],
   "source": [
    "# To check the current data type\n",
    "df.info() "
   ]
  },
  {
   "cell_type": "code",
   "execution_count": 9,
   "metadata": {},
   "outputs": [
    {
     "name": "stdout",
     "output_type": "stream",
     "text": [
      "<class 'pandas.core.frame.DataFrame'>\n",
      "Int64Index: 4588302 entries, 9 to 247539\n",
      "Data columns (total 5 columns):\n",
      " #   Column         Dtype         \n",
      "---  ------         -----         \n",
      " 0   ride_id        object        \n",
      " 1   rideable_type  object        \n",
      " 2   started_at     datetime64[ns]\n",
      " 3   ended_at       datetime64[ns]\n",
      " 4   member_casual  object        \n",
      "dtypes: datetime64[ns](2), object(3)\n",
      "memory usage: 210.0+ MB\n"
     ]
    }
   ],
   "source": [
    "df[\"started_at\"] = df[\"started_at\"].astype('datetime64')\n",
    "df[\"ended_at\"] = df[\"ended_at\"].astype('datetime64')\n",
    "\n",
    "# To check the updated data type\n",
    "df.info() "
   ]
  },
  {
   "cell_type": "markdown",
   "metadata": {},
   "source": [
    "We have successfully conver the data type from **\"object\"** to **\"datetime64\"**"
   ]
  },
  {
   "cell_type": "markdown",
   "metadata": {},
   "source": [
    "### 8. Create new columns that specify the hour, the day, the month, the year of each ride. "
   ]
  },
  {
   "cell_type": "code",
   "execution_count": 10,
   "metadata": {},
   "outputs": [
    {
     "data": {
      "text/html": [
       "<div>\n",
       "<style scoped>\n",
       "    .dataframe tbody tr th:only-of-type {\n",
       "        vertical-align: middle;\n",
       "    }\n",
       "\n",
       "    .dataframe tbody tr th {\n",
       "        vertical-align: top;\n",
       "    }\n",
       "\n",
       "    .dataframe thead th {\n",
       "        text-align: right;\n",
       "    }\n",
       "</style>\n",
       "<table border=\"1\" class=\"dataframe\">\n",
       "  <thead>\n",
       "    <tr style=\"text-align: right;\">\n",
       "      <th></th>\n",
       "      <th>ride_id</th>\n",
       "      <th>rideable_type</th>\n",
       "      <th>started_at</th>\n",
       "      <th>ended_at</th>\n",
       "      <th>member_casual</th>\n",
       "      <th>hour</th>\n",
       "      <th>day</th>\n",
       "      <th>date</th>\n",
       "      <th>month</th>\n",
       "      <th>year</th>\n",
       "    </tr>\n",
       "  </thead>\n",
       "  <tbody>\n",
       "    <tr>\n",
       "      <th>9</th>\n",
       "      <td>B9F73448DFBE0D45</td>\n",
       "      <td>classic_bike</td>\n",
       "      <td>2021-01-24 19:15:38</td>\n",
       "      <td>2021-01-24 19:22:51</td>\n",
       "      <td>member</td>\n",
       "      <td>19</td>\n",
       "      <td>Sunday</td>\n",
       "      <td>24</td>\n",
       "      <td>January</td>\n",
       "      <td>2021</td>\n",
       "    </tr>\n",
       "    <tr>\n",
       "      <th>10</th>\n",
       "      <td>457C7F4B5D3DA135</td>\n",
       "      <td>electric_bike</td>\n",
       "      <td>2021-01-23 12:57:38</td>\n",
       "      <td>2021-01-23 13:02:10</td>\n",
       "      <td>member</td>\n",
       "      <td>12</td>\n",
       "      <td>Saturday</td>\n",
       "      <td>23</td>\n",
       "      <td>January</td>\n",
       "      <td>2021</td>\n",
       "    </tr>\n",
       "    <tr>\n",
       "      <th>11</th>\n",
       "      <td>57C750326F9FDABE</td>\n",
       "      <td>electric_bike</td>\n",
       "      <td>2021-01-09 15:28:04</td>\n",
       "      <td>2021-01-09 15:37:51</td>\n",
       "      <td>casual</td>\n",
       "      <td>15</td>\n",
       "      <td>Saturday</td>\n",
       "      <td>9</td>\n",
       "      <td>January</td>\n",
       "      <td>2021</td>\n",
       "    </tr>\n",
       "    <tr>\n",
       "      <th>12</th>\n",
       "      <td>4D518C65E338D070</td>\n",
       "      <td>electric_bike</td>\n",
       "      <td>2021-01-09 15:28:57</td>\n",
       "      <td>2021-01-09 15:37:54</td>\n",
       "      <td>casual</td>\n",
       "      <td>15</td>\n",
       "      <td>Saturday</td>\n",
       "      <td>9</td>\n",
       "      <td>January</td>\n",
       "      <td>2021</td>\n",
       "    </tr>\n",
       "    <tr>\n",
       "      <th>13</th>\n",
       "      <td>9D08A3AFF410474D</td>\n",
       "      <td>classic_bike</td>\n",
       "      <td>2021-01-24 15:56:59</td>\n",
       "      <td>2021-01-24 16:07:08</td>\n",
       "      <td>casual</td>\n",
       "      <td>15</td>\n",
       "      <td>Sunday</td>\n",
       "      <td>24</td>\n",
       "      <td>January</td>\n",
       "      <td>2021</td>\n",
       "    </tr>\n",
       "  </tbody>\n",
       "</table>\n",
       "</div>"
      ],
      "text/plain": [
       "             ride_id  rideable_type          started_at            ended_at  \\\n",
       "9   B9F73448DFBE0D45   classic_bike 2021-01-24 19:15:38 2021-01-24 19:22:51   \n",
       "10  457C7F4B5D3DA135  electric_bike 2021-01-23 12:57:38 2021-01-23 13:02:10   \n",
       "11  57C750326F9FDABE  electric_bike 2021-01-09 15:28:04 2021-01-09 15:37:51   \n",
       "12  4D518C65E338D070  electric_bike 2021-01-09 15:28:57 2021-01-09 15:37:54   \n",
       "13  9D08A3AFF410474D   classic_bike 2021-01-24 15:56:59 2021-01-24 16:07:08   \n",
       "\n",
       "   member_casual  hour       day  date    month  year  \n",
       "9         member    19    Sunday    24  January  2021  \n",
       "10        member    12  Saturday    23  January  2021  \n",
       "11        casual    15  Saturday     9  January  2021  \n",
       "12        casual    15  Saturday     9  January  2021  \n",
       "13        casual    15    Sunday    24  January  2021  "
      ]
     },
     "execution_count": 10,
     "metadata": {},
     "output_type": "execute_result"
    }
   ],
   "source": [
    "df['hour'] = df['started_at'].dt.hour # Toextract the hour\n",
    "df['day'] = df['started_at'].dt.day_name() # Toextract the day of the week\n",
    "df['date'] = df['started_at'].dt.day #To extract the date\n",
    "df['month'] = df['started_at'].dt.month_name() # To extract the month\n",
    "df['year'] = df['started_at'].dt.year #To extract the year\n",
    "\n",
    "\n",
    "df.head()"
   ]
  },
  {
   "cell_type": "markdown",
   "metadata": {},
   "source": [
    "### 9. Check the order of the day, month"
   ]
  },
  {
   "cell_type": "code",
   "execution_count": 11,
   "metadata": {},
   "outputs": [
    {
     "data": {
      "text/plain": [
       "member_casual  day      \n",
       "casual         Friday       290045\n",
       "               Monday       228936\n",
       "               Saturday     468331\n",
       "               Sunday       403789\n",
       "               Thursday     224207\n",
       "               Tuesday      214937\n",
       "               Wednesday    218134\n",
       "member         Friday       365787\n",
       "               Monday       346488\n",
       "               Saturday     357082\n",
       "               Sunday       311240\n",
       "               Thursday     373474\n",
       "               Tuesday      388132\n",
       "               Wednesday    397720\n",
       "Name: ride_id, dtype: int64"
      ]
     },
     "execution_count": 11,
     "metadata": {},
     "output_type": "execute_result"
    }
   ],
   "source": [
    "df.groupby(['member_casual', 'day'])['ride_id'].count() # Check order for the day"
   ]
  },
  {
   "cell_type": "markdown",
   "metadata": {},
   "source": [
    "The days are not arranged in the order that we want, so we have to arrange them"
   ]
  },
  {
   "cell_type": "code",
   "execution_count": 12,
   "metadata": {},
   "outputs": [
    {
     "data": {
      "text/plain": [
       "member_casual  day      \n",
       "casual         Monday       228936\n",
       "               Tuesday      214937\n",
       "               Wednesday    218134\n",
       "               Thursday     224207\n",
       "               Friday       290045\n",
       "               Saturday     468331\n",
       "               Sunday       403789\n",
       "member         Monday       346488\n",
       "               Tuesday      388132\n",
       "               Wednesday    397720\n",
       "               Thursday     373474\n",
       "               Friday       365787\n",
       "               Saturday     357082\n",
       "               Sunday       311240\n",
       "Name: ride_id, dtype: int64"
      ]
     },
     "execution_count": 12,
     "metadata": {},
     "output_type": "execute_result"
    }
   ],
   "source": [
    "day_ordered = ['Monday', 'Tuesday', 'Wednesday', 'Thursday', 'Friday', 'Saturday', 'Sunday']\n",
    "\n",
    "df['day'] = pd.Categorical(df['day'], categories=day_ordered, ordered=True)\n",
    "df.groupby(['member_casual', 'day'])['ride_id'].count() "
   ]
  },
  {
   "cell_type": "markdown",
   "metadata": {},
   "source": [
    "The days are now ordered accordingly as we want, which is Monday - Friday."
   ]
  },
  {
   "cell_type": "code",
   "execution_count": 13,
   "metadata": {},
   "outputs": [
    {
     "data": {
      "text/plain": [
       "member_casual  month    \n",
       "casual         April        120420\n",
       "               August       341476\n",
       "               December      45076\n",
       "               February       8613\n",
       "               January       14690\n",
       "               July         369415\n",
       "               June         304192\n",
       "               March         75642\n",
       "               May          216829\n",
       "               November      69978\n",
       "               October      189117\n",
       "               September    292931\n",
       "member         April        177787\n",
       "               August       332933\n",
       "               December     131295\n",
       "               February      34383\n",
       "               January       68819\n",
       "               July         322906\n",
       "               June         304586\n",
       "               March        130049\n",
       "               May          234165\n",
       "               November     185926\n",
       "               October      288855\n",
       "               September    328219\n",
       "Name: ride_id, dtype: int64"
      ]
     },
     "execution_count": 13,
     "metadata": {},
     "output_type": "execute_result"
    }
   ],
   "source": [
    "# Now we repeat for the month\n",
    "\n",
    "df.groupby(['member_casual', 'month'])['ride_id'].count() # Check order for the month"
   ]
  },
  {
   "cell_type": "markdown",
   "metadata": {},
   "source": [
    "The months are not arranged in the order that we want, so we have to arrange them."
   ]
  },
  {
   "cell_type": "code",
   "execution_count": 14,
   "metadata": {},
   "outputs": [
    {
     "data": {
      "text/plain": [
       "member_casual  month    \n",
       "casual         January       14690\n",
       "               February       8613\n",
       "               March         75642\n",
       "               April        120420\n",
       "               May          216829\n",
       "               June         304192\n",
       "               July         369415\n",
       "               August       341476\n",
       "               September    292931\n",
       "               October      189117\n",
       "               November      69978\n",
       "               December      45076\n",
       "member         January       68819\n",
       "               February      34383\n",
       "               March        130049\n",
       "               April        177787\n",
       "               May          234165\n",
       "               June         304586\n",
       "               July         322906\n",
       "               August       332933\n",
       "               September    328219\n",
       "               October      288855\n",
       "               November     185926\n",
       "               December     131295\n",
       "Name: ride_id, dtype: int64"
      ]
     },
     "execution_count": 14,
     "metadata": {},
     "output_type": "execute_result"
    }
   ],
   "source": [
    "# Arrange the month\n",
    "\n",
    "month_ordered = ['January', 'February', 'March', 'April', 'May', 'June', 'July', 'August', 'September', 'October',\n",
    "               'November', 'December']\n",
    "\n",
    "df['month'] = pd.Categorical(df['month'], categories=month_ordered, ordered=True)\n",
    "df.groupby(['member_casual', 'month'])['ride_id'].count() "
   ]
  },
  {
   "cell_type": "markdown",
   "metadata": {},
   "source": [
    "Perfect! The months are now arranged as wanted, which is January - December."
   ]
  },
  {
   "cell_type": "markdown",
   "metadata": {},
   "source": [
    "### 10. Create new column that calculate the duration of each ride"
   ]
  },
  {
   "cell_type": "code",
   "execution_count": 15,
   "metadata": {},
   "outputs": [
    {
     "data": {
      "text/html": [
       "<div>\n",
       "<style scoped>\n",
       "    .dataframe tbody tr th:only-of-type {\n",
       "        vertical-align: middle;\n",
       "    }\n",
       "\n",
       "    .dataframe tbody tr th {\n",
       "        vertical-align: top;\n",
       "    }\n",
       "\n",
       "    .dataframe thead th {\n",
       "        text-align: right;\n",
       "    }\n",
       "</style>\n",
       "<table border=\"1\" class=\"dataframe\">\n",
       "  <thead>\n",
       "    <tr style=\"text-align: right;\">\n",
       "      <th></th>\n",
       "      <th>ride_id</th>\n",
       "      <th>rideable_type</th>\n",
       "      <th>started_at</th>\n",
       "      <th>ended_at</th>\n",
       "      <th>member_casual</th>\n",
       "      <th>hour</th>\n",
       "      <th>day</th>\n",
       "      <th>date</th>\n",
       "      <th>month</th>\n",
       "      <th>year</th>\n",
       "      <th>ride_duration</th>\n",
       "    </tr>\n",
       "  </thead>\n",
       "  <tbody>\n",
       "    <tr>\n",
       "      <th>9</th>\n",
       "      <td>B9F73448DFBE0D45</td>\n",
       "      <td>classic_bike</td>\n",
       "      <td>2021-01-24 19:15:38</td>\n",
       "      <td>2021-01-24 19:22:51</td>\n",
       "      <td>member</td>\n",
       "      <td>19</td>\n",
       "      <td>Sunday</td>\n",
       "      <td>24</td>\n",
       "      <td>January</td>\n",
       "      <td>2021</td>\n",
       "      <td>7.216667</td>\n",
       "    </tr>\n",
       "    <tr>\n",
       "      <th>10</th>\n",
       "      <td>457C7F4B5D3DA135</td>\n",
       "      <td>electric_bike</td>\n",
       "      <td>2021-01-23 12:57:38</td>\n",
       "      <td>2021-01-23 13:02:10</td>\n",
       "      <td>member</td>\n",
       "      <td>12</td>\n",
       "      <td>Saturday</td>\n",
       "      <td>23</td>\n",
       "      <td>January</td>\n",
       "      <td>2021</td>\n",
       "      <td>4.533333</td>\n",
       "    </tr>\n",
       "    <tr>\n",
       "      <th>11</th>\n",
       "      <td>57C750326F9FDABE</td>\n",
       "      <td>electric_bike</td>\n",
       "      <td>2021-01-09 15:28:04</td>\n",
       "      <td>2021-01-09 15:37:51</td>\n",
       "      <td>casual</td>\n",
       "      <td>15</td>\n",
       "      <td>Saturday</td>\n",
       "      <td>9</td>\n",
       "      <td>January</td>\n",
       "      <td>2021</td>\n",
       "      <td>9.783333</td>\n",
       "    </tr>\n",
       "    <tr>\n",
       "      <th>12</th>\n",
       "      <td>4D518C65E338D070</td>\n",
       "      <td>electric_bike</td>\n",
       "      <td>2021-01-09 15:28:57</td>\n",
       "      <td>2021-01-09 15:37:54</td>\n",
       "      <td>casual</td>\n",
       "      <td>15</td>\n",
       "      <td>Saturday</td>\n",
       "      <td>9</td>\n",
       "      <td>January</td>\n",
       "      <td>2021</td>\n",
       "      <td>8.950000</td>\n",
       "    </tr>\n",
       "    <tr>\n",
       "      <th>13</th>\n",
       "      <td>9D08A3AFF410474D</td>\n",
       "      <td>classic_bike</td>\n",
       "      <td>2021-01-24 15:56:59</td>\n",
       "      <td>2021-01-24 16:07:08</td>\n",
       "      <td>casual</td>\n",
       "      <td>15</td>\n",
       "      <td>Sunday</td>\n",
       "      <td>24</td>\n",
       "      <td>January</td>\n",
       "      <td>2021</td>\n",
       "      <td>10.150000</td>\n",
       "    </tr>\n",
       "  </tbody>\n",
       "</table>\n",
       "</div>"
      ],
      "text/plain": [
       "             ride_id  rideable_type          started_at            ended_at  \\\n",
       "9   B9F73448DFBE0D45   classic_bike 2021-01-24 19:15:38 2021-01-24 19:22:51   \n",
       "10  457C7F4B5D3DA135  electric_bike 2021-01-23 12:57:38 2021-01-23 13:02:10   \n",
       "11  57C750326F9FDABE  electric_bike 2021-01-09 15:28:04 2021-01-09 15:37:51   \n",
       "12  4D518C65E338D070  electric_bike 2021-01-09 15:28:57 2021-01-09 15:37:54   \n",
       "13  9D08A3AFF410474D   classic_bike 2021-01-24 15:56:59 2021-01-24 16:07:08   \n",
       "\n",
       "   member_casual  hour       day  date    month  year  ride_duration  \n",
       "9         member    19    Sunday    24  January  2021       7.216667  \n",
       "10        member    12  Saturday    23  January  2021       4.533333  \n",
       "11        casual    15  Saturday     9  January  2021       9.783333  \n",
       "12        casual    15  Saturday     9  January  2021       8.950000  \n",
       "13        casual    15    Sunday    24  January  2021      10.150000  "
      ]
     },
     "execution_count": 15,
     "metadata": {},
     "output_type": "execute_result"
    }
   ],
   "source": [
    "df['ride_duration'] = (df['ended_at'] - df['started_at'])/ pd.Timedelta(minutes=1) \n",
    "#Express the ride duration in terms of only minutes , and not minutes and seconds\n",
    "\n",
    "df.head()"
   ]
  },
  {
   "cell_type": "markdown",
   "metadata": {},
   "source": [
    "### 11. Verify if there are negative values for the duration of ride, which is not logical"
   ]
  },
  {
   "cell_type": "code",
   "execution_count": 16,
   "metadata": {},
   "outputs": [
    {
     "data": {
      "text/plain": [
       "ride_id          116\n",
       "rideable_type    116\n",
       "started_at       116\n",
       "ended_at         116\n",
       "member_casual    116\n",
       "hour             116\n",
       "day              116\n",
       "date             116\n",
       "month            116\n",
       "year             116\n",
       "ride_duration    116\n",
       "dtype: int64"
      ]
     },
     "execution_count": 16,
     "metadata": {},
     "output_type": "execute_result"
    }
   ],
   "source": [
    "df[df['ride_duration'] < 0].count()"
   ]
  },
  {
   "cell_type": "markdown",
   "metadata": {},
   "source": [
    "Apparently there are 166 rides with negative durations which are not logical, so we have to delete them."
   ]
  },
  {
   "cell_type": "code",
   "execution_count": 17,
   "metadata": {},
   "outputs": [
    {
     "data": {
      "text/plain": [
       "ride_id          0\n",
       "rideable_type    0\n",
       "started_at       0\n",
       "ended_at         0\n",
       "member_casual    0\n",
       "hour             0\n",
       "day              0\n",
       "date             0\n",
       "month            0\n",
       "year             0\n",
       "ride_duration    0\n",
       "dtype: int64"
      ]
     },
     "execution_count": 17,
     "metadata": {},
     "output_type": "execute_result"
    }
   ],
   "source": [
    "df = df[df['ride_duration'] > 0] # Remove the rows\n",
    "df[df['ride_duration'] < 0].count() # Verify"
   ]
  },
  {
   "cell_type": "markdown",
   "metadata": {},
   "source": [
    "We reconfirmed now that the rides with negative durations have been succesfully ommitted."
   ]
  },
  {
   "cell_type": "code",
   "execution_count": 18,
   "metadata": {},
   "outputs": [
    {
     "data": {
      "text/html": [
       "<div>\n",
       "<style scoped>\n",
       "    .dataframe tbody tr th:only-of-type {\n",
       "        vertical-align: middle;\n",
       "    }\n",
       "\n",
       "    .dataframe tbody tr th {\n",
       "        vertical-align: top;\n",
       "    }\n",
       "\n",
       "    .dataframe thead th {\n",
       "        text-align: right;\n",
       "    }\n",
       "</style>\n",
       "<table border=\"1\" class=\"dataframe\">\n",
       "  <thead>\n",
       "    <tr style=\"text-align: right;\">\n",
       "      <th></th>\n",
       "      <th>ride_id</th>\n",
       "      <th>rideable_type</th>\n",
       "      <th>started_at</th>\n",
       "      <th>ended_at</th>\n",
       "      <th>member_casual</th>\n",
       "      <th>hour</th>\n",
       "      <th>day</th>\n",
       "      <th>date</th>\n",
       "      <th>month</th>\n",
       "      <th>year</th>\n",
       "      <th>ride_duration</th>\n",
       "    </tr>\n",
       "  </thead>\n",
       "  <tbody>\n",
       "    <tr>\n",
       "      <th>397932</th>\n",
       "      <td>80EBF2D4ED9F1CD6</td>\n",
       "      <td>classic_bike</td>\n",
       "      <td>2021-07-27 18:57:58</td>\n",
       "      <td>2021-07-27 18:57:59</td>\n",
       "      <td>casual</td>\n",
       "      <td>18</td>\n",
       "      <td>Tuesday</td>\n",
       "      <td>27</td>\n",
       "      <td>July</td>\n",
       "      <td>2021</td>\n",
       "      <td>0.016667</td>\n",
       "    </tr>\n",
       "    <tr>\n",
       "      <th>181547</th>\n",
       "      <td>17471ADEE413A595</td>\n",
       "      <td>classic_bike</td>\n",
       "      <td>2021-08-22 20:41:16</td>\n",
       "      <td>2021-08-22 20:41:17</td>\n",
       "      <td>member</td>\n",
       "      <td>20</td>\n",
       "      <td>Sunday</td>\n",
       "      <td>22</td>\n",
       "      <td>August</td>\n",
       "      <td>2021</td>\n",
       "      <td>0.016667</td>\n",
       "    </tr>\n",
       "    <tr>\n",
       "      <th>308715</th>\n",
       "      <td>D00E0C5398D32CA2</td>\n",
       "      <td>docked_bike</td>\n",
       "      <td>2021-07-15 22:06:34</td>\n",
       "      <td>2021-07-15 22:06:35</td>\n",
       "      <td>casual</td>\n",
       "      <td>22</td>\n",
       "      <td>Thursday</td>\n",
       "      <td>15</td>\n",
       "      <td>July</td>\n",
       "      <td>2021</td>\n",
       "      <td>0.016667</td>\n",
       "    </tr>\n",
       "    <tr>\n",
       "      <th>76874</th>\n",
       "      <td>ECC244CE74D8CFFE</td>\n",
       "      <td>classic_bike</td>\n",
       "      <td>2021-01-27 09:01:20</td>\n",
       "      <td>2021-01-27 09:01:21</td>\n",
       "      <td>member</td>\n",
       "      <td>9</td>\n",
       "      <td>Wednesday</td>\n",
       "      <td>27</td>\n",
       "      <td>January</td>\n",
       "      <td>2021</td>\n",
       "      <td>0.016667</td>\n",
       "    </tr>\n",
       "    <tr>\n",
       "      <th>273114</th>\n",
       "      <td>3169A3DE42575A9C</td>\n",
       "      <td>classic_bike</td>\n",
       "      <td>2021-04-18 14:20:48</td>\n",
       "      <td>2021-04-18 14:20:49</td>\n",
       "      <td>member</td>\n",
       "      <td>14</td>\n",
       "      <td>Sunday</td>\n",
       "      <td>18</td>\n",
       "      <td>April</td>\n",
       "      <td>2021</td>\n",
       "      <td>0.016667</td>\n",
       "    </tr>\n",
       "  </tbody>\n",
       "</table>\n",
       "</div>"
      ],
      "text/plain": [
       "                 ride_id rideable_type          started_at  \\\n",
       "397932  80EBF2D4ED9F1CD6  classic_bike 2021-07-27 18:57:58   \n",
       "181547  17471ADEE413A595  classic_bike 2021-08-22 20:41:16   \n",
       "308715  D00E0C5398D32CA2   docked_bike 2021-07-15 22:06:34   \n",
       "76874   ECC244CE74D8CFFE  classic_bike 2021-01-27 09:01:20   \n",
       "273114  3169A3DE42575A9C  classic_bike 2021-04-18 14:20:48   \n",
       "\n",
       "                  ended_at member_casual  hour        day  date    month  \\\n",
       "397932 2021-07-27 18:57:59        casual    18    Tuesday    27     July   \n",
       "181547 2021-08-22 20:41:17        member    20     Sunday    22   August   \n",
       "308715 2021-07-15 22:06:35        casual    22   Thursday    15     July   \n",
       "76874  2021-01-27 09:01:21        member     9  Wednesday    27  January   \n",
       "273114 2021-04-18 14:20:49        member    14     Sunday    18    April   \n",
       "\n",
       "        year  ride_duration  \n",
       "397932  2021       0.016667  \n",
       "181547  2021       0.016667  \n",
       "308715  2021       0.016667  \n",
       "76874   2021       0.016667  \n",
       "273114  2021       0.016667  "
      ]
     },
     "execution_count": 18,
     "metadata": {},
     "output_type": "execute_result"
    }
   ],
   "source": [
    "df.sort_values(by = ['ride_duration'], ascending = True).head()"
   ]
  },
  {
   "cell_type": "markdown",
   "metadata": {},
   "source": [
    "We can also verify by sorting the duration ascendingly, then identify whether the smallest value is positive.\n",
    "\n",
    "We can see that the shortest duration which is 0.167 minute is positive, therefore all the negative values have been deleted succesfully."
   ]
  },
  {
   "cell_type": "markdown",
   "metadata": {},
   "source": [
    "### 12. Export the cleaned file."
   ]
  },
  {
   "cell_type": "markdown",
   "metadata": {},
   "source": [
    "The file has been fully cleaned according to our needs, so we can export it as a new file."
   ]
  },
  {
   "cell_type": "code",
   "execution_count": 19,
   "metadata": {},
   "outputs": [],
   "source": [
    "df.to_csv(\"cycle_cleaned.csv\")"
   ]
  }
 ],
 "metadata": {
  "kernelspec": {
   "display_name": "Python 3",
   "language": "python",
   "name": "python3"
  },
  "language_info": {
   "codemirror_mode": {
    "name": "ipython",
    "version": 3
   },
   "file_extension": ".py",
   "mimetype": "text/x-python",
   "name": "python",
   "nbconvert_exporter": "python",
   "pygments_lexer": "ipython3",
   "version": "3.8.3"
  }
 },
 "nbformat": 4,
 "nbformat_minor": 4
}
